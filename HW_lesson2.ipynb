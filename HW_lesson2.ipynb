{
 "cells": [
  {
   "cell_type": "code",
   "execution_count": 1,
   "id": "4a1c4c3a-56d5-4163-af16-4a64513bf0df",
   "metadata": {},
   "outputs": [
    {
     "name": "stdout",
     "output_type": "stream",
     "text": [
      "[1, 2, 3, 4, 5, 6, 7, 8, 9, 10]\n",
      "Сложность алгоритма О(n)\n"
     ]
    }
   ],
   "source": [
    "m = []\n",
    "for i in range(1, 11):\n",
    "    m.append(i)\n",
    "print(m)\n",
    "print ('Сложность алгоритма О(n)' )"
   ]
  },
  {
   "cell_type": "code",
   "execution_count": null,
   "id": "19e0cf31-7f08-4c99-a328-4cf4dd63e099",
   "metadata": {},
   "outputs": [],
   "source": []
  }
 ],
 "metadata": {
  "kernelspec": {
   "display_name": "Python 3 (ipykernel)",
   "language": "python",
   "name": "python3"
  },
  "language_info": {
   "codemirror_mode": {
    "name": "ipython",
    "version": 3
   },
   "file_extension": ".py",
   "mimetype": "text/x-python",
   "name": "python",
   "nbconvert_exporter": "python",
   "pygments_lexer": "ipython3",
   "version": "3.11.7"
  }
 },
 "nbformat": 4,
 "nbformat_minor": 5
}
