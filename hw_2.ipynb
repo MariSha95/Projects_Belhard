{
  "nbformat": 4,
  "nbformat_minor": 0,
  "metadata": {
    "colab": {
      "provenance": [],
      "authorship_tag": "ABX9TyM9du5Q9o/+aBQjmIwXJwGN",
      "include_colab_link": true
    },
    "kernelspec": {
      "name": "python3",
      "display_name": "Python 3"
    },
    "language_info": {
      "name": "python"
    }
  },
  "cells": [
    {
      "cell_type": "markdown",
      "metadata": {
        "id": "view-in-github",
        "colab_type": "text"
      },
      "source": [
        "<a href=\"https://colab.research.google.com/github/MariSha95/Projects_Belhard/blob/main/hw_2.ipynb\" target=\"_parent\"><img src=\"https://colab.research.google.com/assets/colab-badge.svg\" alt=\"Open In Colab\"/></a>"
      ]
    },
    {
      "cell_type": "code",
      "execution_count": 1,
      "metadata": {
        "id": "mqR4_W6E39mB"
      },
      "outputs": [],
      "source": [
        "file_path = 'tox21_dense_train.csv'  # Замените на путь к вашему CSV файлу\n",
        "\n",
        "\n"
      ]
    }
  ]
}